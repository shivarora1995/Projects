Data Science Tools and Ecosystem
In this notebook, Data Science Tools and Ecosystem are summarized.

Objectives:

List popular languages for Data Science
List popular libraries for Data Science
Table Tools for Data Science
Arithmetic examples
Some of the popular languages that Data Scientists use are:

Python: Widely used for data analysis, machine learning, and scientific computing, with a vast array of libraries and frameworks available.

R: Designed specifically for statistical computing and graphics, popular in academia and research.

SQL: Used for managing and querying large databases, essential for data analysis and business intelligence.

Scala: A high-level language that runs on the Java Virtual Machine, often used for big data processing and distributed computing.

Julia: A newer language that is gaining popularity in scientific computing and data analysis due to its speed and ease of use.

MATLAB: Popular in engineering and scientific research, with built-in tools for data analysis, visualization, and numerical computation.

Some of the commonly used libraries used by Data Scientists include:

NumPy: Provides support for arrays and matrices, and functions for mathematical operations and linear algebra.

Pandas: Offers data structures for easy manipulation and analysis of tabular data, such as dataframes and series.

Matplotlib: A comprehensive library for creating static, animated, and interactive visualizations in Python.

Scikit-learn: A powerful library for machine learning tasks such as regression, classification, clustering, and dimensionality reduction.

TensorFlow: An open-source library for building and training neural networks, developed by Google.

PyTorch: Another popular library for deep learning, developed by Facebook.

Keras: A high-level neural networks API, that can run on top of TensorFlow, CNTK, or Theano.

Seaborn: A library that provides easy-to-use functions for creating attractive and informative statistical graphics.

SciPy: A library that provides modules for optimization, integration, interpolation, linear algebra, and more.

Exercise 6
Data Science Tools
Jupyter Notebook
RStudio
Spyder
Jupyter Notebook: An open-source web application that allows you to create and share documents containing live code, equations, visualizations, and narrative text.
RStudio: An integrated development environment (IDE) for R programming language, providing a powerful and user-friendly interface for data analysis and visualization.
Spyder: An open-source IDE for scientific computing in Python, with features such as code completion, debugging, and variable explorer.
{
 "cells": [
  {
   "cell_type": "code",
   "execution_count": 2,
   "id": "1dc9627a-5e28-4e5a-965d-210906a33a39",
   "metadata": {},
   "outputs": [
    {
     "name": "stdout",
     "output_type": "stream",
     "text": [
      "# My Jupyter Notebook\n"
     ]
    }
   ],
   "source": [
    "# My Jupyter Notebook\n",
    "print(\"# My Jupyter Notebook\")\n"
   ]
  },
  {
   "cell_type": "code",
   "execution_count": 3,
   "id": "e722a579-4995-49bf-9b0f-701503f8fb24",
   "metadata": {},
   "outputs": [
    {
     "name": "stdout",
     "output_type": "stream",
     "text": [
      "**Shivam**\n",
      "PM\n"
     ]
    }
   ],
   "source": [
    "# Name and occupation\n",
    "name = \"**Shivam**\"\n",
    "occupation = \"PM\"\n",
    "\n",
    "# Print name and occupation\n",
    "print(name)\n",
    "print(occupation)\n"
   ]
  },
  {
   "cell_type": "code",
   "execution_count": 4,
   "id": "343c040b-ded3-4dd3-a770-3b584f55fb9e",
   "metadata": {},
   "outputs": [
    {
     "name": "stdout",
     "output_type": "stream",
     "text": [
      "*I am interested in data science because it allows me to work with large datasets and use statistical and machine learning techniques to uncover insights and make data-driven decisions.*\n"
     ]
    }
   ],
   "source": [
    "# Why I'm interested in data science\n",
    "reason = \"*I am interested in data science because it allows me to work with large datasets and use statistical and machine learning techniques to uncover insights and make data-driven decisions.*\"\n",
    "\n",
    "# Print the reason\n",
    "print(reason)\n"
   ]
  },
  {
   "cell_type": "code",
   "execution_count": 5,
   "id": "8bb1d1ad-6e00-4a01-9ac3-fa29cf597569",
   "metadata": {},
   "outputs": [
    {
     "name": "stdout",
     "output_type": "stream",
     "text": [
      "### This code will calculate the standard deviation.\n"
     ]
    }
   ],
   "source": [
    "# Explanation of Cell 5\n",
    "print(\"### This code will calculate the standard deviation in 2 decimal places.\")\n"
   ]
  },
  {
   "cell_type": "code",
   "execution_count": 7,
   "id": "30618d30-0088-4549-ab5f-5991cd879f1c",
   "metadata": {},
   "outputs": [
    {
     "name": "stdout",
     "output_type": "stream",
     "text": [
      "The standard deviation is: 2.58\n"
     ]
    }
   ],
   "source": [
    "# Data to calculate standard deviation\n",
    "data = [5, 7, 3, 1, 8, 6, 9, 2, 4]\n",
    "\n",
    "# Calculate the mean\n",
    "mean = sum(data) / len(data)\n",
    "\n",
    "# Calculate the variance\n",
    "variance = sum((x - mean) ** 2 for x in data) / len(data)\n",
    "\n",
    "# Calculate the standard deviation\n",
    "std_dev = variance ** 0.5\n",
    "\n",
    "# Round the standard deviation to two decimal places\n",
    "std_dev = round(std_dev, 2)\n",
    "\n",
    "# Print the standard deviation\n",
    "print(\"The standard deviation is:\", std_dev)\n",
    "\n"
   ]
  },
  {
   "cell_type": "code",
   "execution_count": 9,
   "id": "7dcd522a-e511-4d7e-b57c-6743e55685c5",
   "metadata": {},
   "outputs": [
    {
     "name": "stdout",
     "output_type": "stream",
     "text": [
      "---\n",
      "\n",
      "#### My Favorite Fruits\n",
      "\n",
      "- Apples\n",
      "- Oranges\n",
      "- Bananas\n",
      "\n",
      "#### Nutritional Information\n",
      "\n",
      "| Fruit   | Calories | Fiber (g) | Vitamin C (mg) |\n",
      "| ------- | -------- | --------- | -------------- |\n",
      "| Apple   | 95       | 4         | 8.4            |\n",
      "| Orange  | 62       | 3         | 70             |\n",
      "| Banana  | 105      | 3         | 10             |\n",
      "\n",
      "---\n"
     ]
    }
   ],
   "source": [
    "# Create a string with horizontal rule, bulleted list, and table\n",
    "my_string = '---\\n\\n#### My Favorite Fruits\\n\\n- Apples\\n- Oranges\\n- Bananas\\n\\n#### Nutritional Information\\n\\n| Fruit   | Calories | Fiber (g) | Vitamin C (mg) |\\n| ------- | -------- | --------- | -------------- |\\n| Apple   | 95       | 4         | 8.4            |\\n| Orange  | 62       | 3         | 70             |\\n| Banana  | 105      | 3         | 10             |\\n\\n---'\n",
    "\n",
    "# Print the string\n",
    "print(my_string)\n"
   ]
  },
  {
   "cell_type": "code",
   "execution_count": null,
   "id": "2fedc16e-38bc-4e59-a364-b49980011267",
   "metadata": {},
   "outputs": [],
   "source": []
  }
 ],
 "metadata": {
  "kernelspec": {
   "display_name": "Python",
   "language": "python",
   "name": "conda-env-python-py"
  },
  "language_info": {
   "codemirror_mode": {
    "name": "ipython",
    "version": 3
   },
   "file_extension": ".py",
   "mimetype": "text/x-python",
   "name": "python",
   "nbconvert_exporter": "python",
   "pygments_lexer": "ipython3",
   "version": "3.7.12"
  }
 },
 "nbformat": 4,
 "nbformat_minor": 5
}
