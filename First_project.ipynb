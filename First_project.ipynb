{
 "cells": [
  {
   "cell_type": "code",
   "execution_count": 2,
   "id": "1dc9627a-5e28-4e5a-965d-210906a33a39",
   "metadata": {},
   "outputs": [
    {
     "name": "stdout",
     "output_type": "stream",
     "text": [
      "# My Jupyter Notebook\n"
     ]
    }
   ],
   "source": [
    "# My Jupyter Notebook\n",
    "print(\"# My Jupyter Notebook\")\n"
   ]
  },
  {
   "cell_type": "code",
   "execution_count": 3,
   "id": "e722a579-4995-49bf-9b0f-701503f8fb24",
   "metadata": {},
   "outputs": [
    {
     "name": "stdout",
     "output_type": "stream",
     "text": [
      "**Shivam**\n",
      "PM\n"
     ]
    }
   ],
   "source": [
    "# Name and occupation\n",
    "name = \"**Shivam**\"\n",
    "occupation = \"PM\"\n",
    "\n",
    "# Print name and occupation\n",
    "print(name)\n",
    "print(occupation)\n"
   ]
  },
  {
   "cell_type": "code",
   "execution_count": 4,
   "id": "343c040b-ded3-4dd3-a770-3b584f55fb9e",
   "metadata": {},
   "outputs": [
    {
     "name": "stdout",
     "output_type": "stream",
     "text": [
      "*I am interested in data science because it allows me to work with large datasets and use statistical and machine learning techniques to uncover insights and make data-driven decisions.*\n"
     ]
    }
   ],
   "source": [
    "# Why I'm interested in data science\n",
    "reason = \"*I am interested in data science because it allows me to work with large datasets and use statistical and machine learning techniques to uncover insights and make data-driven decisions.*\"\n",
    "\n",
    "# Print the reason\n",
    "print(reason)\n"
   ]
  },
  {
   "cell_type": "code",
   "execution_count": 5,
   "id": "8bb1d1ad-6e00-4a01-9ac3-fa29cf597569",
   "metadata": {},
   "outputs": [
    {
     "name": "stdout",
     "output_type": "stream",
     "text": [
      "### This code will calculate the standard deviation.\n"
     ]
    }
   ],
   "source": [
    "# Explanation of Cell 5\n",
    "print(\"### This code will calculate the standard deviation in 2 decimal places.\")\n"
   ]
  },
  {
   "cell_type": "code",
   "execution_count": 7,
   "id": "30618d30-0088-4549-ab5f-5991cd879f1c",
   "metadata": {},
   "outputs": [
    {
     "name": "stdout",
     "output_type": "stream",
     "text": [
      "The standard deviation is: 2.58\n"
     ]
    }
   ],
   "source": [
    "# Data to calculate standard deviation\n",
    "data = [5, 7, 3, 1, 8, 6, 9, 2, 4]\n",
    "\n",
    "# Calculate the mean\n",
    "mean = sum(data) / len(data)\n",
    "\n",
    "# Calculate the variance\n",
    "variance = sum((x - mean) ** 2 for x in data) / len(data)\n",
    "\n",
    "# Calculate the standard deviation\n",
    "std_dev = variance ** 0.5\n",
    "\n",
    "# Round the standard deviation to two decimal places\n",
    "std_dev = round(std_dev, 2)\n",
    "\n",
    "# Print the standard deviation\n",
    "print(\"The standard deviation is:\", std_dev)\n",
    "\n"
   ]
  },
  {
   "cell_type": "code",
   "execution_count": 9,
   "id": "7dcd522a-e511-4d7e-b57c-6743e55685c5",
   "metadata": {},
   "outputs": [
    {
     "name": "stdout",
     "output_type": "stream",
     "text": [
      "---\n",
      "\n",
      "#### My Favorite Fruits\n",
      "\n",
      "- Apples\n",
      "- Oranges\n",
      "- Bananas\n",
      "\n",
      "#### Nutritional Information\n",
      "\n",
      "| Fruit   | Calories | Fiber (g) | Vitamin C (mg) |\n",
      "| ------- | -------- | --------- | -------------- |\n",
      "| Apple   | 95       | 4         | 8.4            |\n",
      "| Orange  | 62       | 3         | 70             |\n",
      "| Banana  | 105      | 3         | 10             |\n",
      "\n",
      "---\n"
     ]
    }
   ],
   "source": [
    "# Create a string with horizontal rule, bulleted list, and table\n",
    "my_string = '---\\n\\n#### My Favorite Fruits\\n\\n- Apples\\n- Oranges\\n- Bananas\\n\\n#### Nutritional Information\\n\\n| Fruit   | Calories | Fiber (g) | Vitamin C (mg) |\\n| ------- | -------- | --------- | -------------- |\\n| Apple   | 95       | 4         | 8.4            |\\n| Orange  | 62       | 3         | 70             |\\n| Banana  | 105      | 3         | 10             |\\n\\n---'\n",
    "\n",
    "# Print the string\n",
    "print(my_string)\n"
   ]
  },
  {
   "cell_type": "code",
   "execution_count": null,
   "id": "2fedc16e-38bc-4e59-a364-b49980011267",
   "metadata": {},
   "outputs": [],
   "source": []
  }
 ],
 "metadata": {
  "kernelspec": {
   "display_name": "Python",
   "language": "python",
   "name": "conda-env-python-py"
  },
  "language_info": {
   "codemirror_mode": {
    "name": "ipython",
    "version": 3
   },
   "file_extension": ".py",
   "mimetype": "text/x-python",
   "name": "python",
   "nbconvert_exporter": "python",
   "pygments_lexer": "ipython3",
   "version": "3.7.12"
  }
 },
 "nbformat": 4,
 "nbformat_minor": 5
}
